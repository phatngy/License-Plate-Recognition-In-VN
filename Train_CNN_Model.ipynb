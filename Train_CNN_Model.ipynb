{
 "cells": [
  {
   "cell_type": "code",
   "execution_count": 41,
   "metadata": {
    "colab": {
     "base_uri": "https://localhost:8080/",
     "height": 34
    },
    "colab_type": "code",
    "id": "PXTBxZij0A5h",
    "outputId": "996cf48b-3285-4d12-a589-ba976643f55b"
   },
   "outputs": [
    {
     "name": "stdout",
     "output_type": "stream",
     "text": [
      "Drive already mounted at /content/gdrive; to attempt to forcibly remount, call drive.mount(\"/content/gdrive\", force_remount=True).\n"
     ]
    }
   ],
   "source": [
    "from google.colab import drive\n",
    "drive.mount('/content/gdrive')"
   ]
  },
  {
   "cell_type": "code",
   "execution_count": 42,
   "metadata": {
    "colab": {
     "base_uri": "https://localhost:8080/",
     "height": 323
    },
    "colab_type": "code",
    "id": "DQU0DNql1vIP",
    "outputId": "5a10931d-5dc3-423d-c92d-4631310656cd"
   },
   "outputs": [
    {
     "name": "stdout",
     "output_type": "stream",
     "text": [
      "Requirement already satisfied: tensorflow==1.12.0 in /usr/local/lib/python3.6/dist-packages (1.12.0)\n",
      "Requirement already satisfied: wheel>=0.26 in /usr/local/lib/python3.6/dist-packages (from tensorflow==1.12.0) (0.33.6)\n",
      "Requirement already satisfied: astor>=0.6.0 in /usr/local/lib/python3.6/dist-packages (from tensorflow==1.12.0) (0.8.0)\n",
      "Requirement already satisfied: tensorboard<1.13.0,>=1.12.0 in /usr/local/lib/python3.6/dist-packages (from tensorflow==1.12.0) (1.12.2)\n",
      "Requirement already satisfied: keras-applications>=1.0.6 in /usr/local/lib/python3.6/dist-packages (from tensorflow==1.12.0) (1.0.8)\n",
      "Requirement already satisfied: protobuf>=3.6.1 in /usr/local/lib/python3.6/dist-packages (from tensorflow==1.12.0) (3.10.0)\n",
      "Requirement already satisfied: numpy>=1.13.3 in /usr/local/lib/python3.6/dist-packages (from tensorflow==1.12.0) (1.16.5)\n",
      "Requirement already satisfied: six>=1.10.0 in /usr/local/lib/python3.6/dist-packages (from tensorflow==1.12.0) (1.12.0)\n",
      "Requirement already satisfied: keras-preprocessing>=1.0.5 in /usr/local/lib/python3.6/dist-packages (from tensorflow==1.12.0) (1.1.0)\n",
      "Requirement already satisfied: grpcio>=1.8.6 in /usr/local/lib/python3.6/dist-packages (from tensorflow==1.12.0) (1.15.0)\n",
      "Requirement already satisfied: termcolor>=1.1.0 in /usr/local/lib/python3.6/dist-packages (from tensorflow==1.12.0) (1.1.0)\n",
      "Requirement already satisfied: gast>=0.2.0 in /usr/local/lib/python3.6/dist-packages (from tensorflow==1.12.0) (0.2.2)\n",
      "Requirement already satisfied: absl-py>=0.1.6 in /usr/local/lib/python3.6/dist-packages (from tensorflow==1.12.0) (0.8.1)\n",
      "Requirement already satisfied: werkzeug>=0.11.10 in /usr/local/lib/python3.6/dist-packages (from tensorboard<1.13.0,>=1.12.0->tensorflow==1.12.0) (0.16.0)\n",
      "Requirement already satisfied: markdown>=2.6.8 in /usr/local/lib/python3.6/dist-packages (from tensorboard<1.13.0,>=1.12.0->tensorflow==1.12.0) (3.1.1)\n",
      "Requirement already satisfied: h5py in /usr/local/lib/python3.6/dist-packages (from keras-applications>=1.0.6->tensorflow==1.12.0) (2.8.0)\n",
      "Requirement already satisfied: setuptools in /usr/local/lib/python3.6/dist-packages (from protobuf>=3.6.1->tensorflow==1.12.0) (41.2.0)\n",
      "1.12.0\n"
     ]
    }
   ],
   "source": [
    "!pip install tensorflow==1.12.0\n",
    "import tensorflow as tf\n",
    "print(tf.__version__)"
   ]
  },
  {
   "cell_type": "code",
   "execution_count": 0,
   "metadata": {
    "colab": {},
    "colab_type": "code",
    "id": "MJnjDENH7l_n"
   },
   "outputs": [],
   "source": [
    "# Run module on Google Colab\n",
    "from __future__ import division, print_function, absolute_import\n",
    "\n",
    "import tensorflow as tf\n",
    "import tensorflow.contrib.eager as tfe\n",
    "import numpy as np\n",
    "import os\n",
    "import pandas as pd\n",
    "import matplotlib.pyplot as plt\n",
    "from sklearn.model_selection import train_test_split\n",
    "%matplotlib inline\n",
    "tfe.enable_eager_execution()\n",
    "\n",
    "import psutil\n",
    "process = psutil.Process(os.getpid())"
   ]
  },
  {
   "cell_type": "code",
   "execution_count": 48,
   "metadata": {
    "colab": {
     "base_uri": "https://localhost:8080/",
     "height": 85
    },
    "colab_type": "code",
    "id": "kmWgFbKIHj_h",
    "outputId": "29577433-2792-49fa-daf8-222446cc6513"
   },
   "outputs": [
    {
     "name": "stdout",
     "output_type": "stream",
     "text": [
      "/content/gdrive/My Drive/train_images\n",
      "AZ_09.ckpt.data-00000-of-00001\tchars.csv   main.py\n",
      "AZ_09.ckpt.index\t\tcheckpoint  training-set\n",
      "AZ09.h5\t\t\t\tdata.csv    validation-set\n"
     ]
    }
   ],
   "source": [
    "%cd '/content/gdrive/My Drive/train_images/'\n",
    "!ls\n",
    "\n",
    "\n",
    "data = pd.read_csv(\"chars.csv\", header=None)\n",
    "# display(data)"
   ]
  },
  {
   "cell_type": "code",
   "execution_count": 49,
   "metadata": {
    "colab": {
     "base_uri": "https://localhost:8080/",
     "height": 269
    },
    "colab_type": "code",
    "id": "rqwEu2DTOYrY",
    "outputId": "5f5732aa-7184-41bf-c78f-9d5c104ecf24"
   },
   "outputs": [
    {
     "data": {
      "image/png": "[encoded data removed]",
      "text/plain": [
       "<Figure size 432x288 with 1 Axes>"
      ]
     },
     "metadata": {
      "tags": []
     },
     "output_type": "display_data"
    }
   ],
   "source": [
    "# Check image source\n",
    "i = 1\n",
    "im = np.asarray(data.iloc[i, 1:], dtype=np.float32).reshape(28,28)\n",
    "plt.imshow(im)\n",
    "plt.show()\n",
    "\n",
    "# logits = model(im)\n",
    "# y = tf.argmax(tf.nn.softmax(logits), axis = 1)\n",
    "# print(\"\\nThe Character is:\", le.inverse_transform(y.numpy()))"
   ]
  },
  {
   "cell_type": "code",
   "execution_count": 0,
   "metadata": {
    "colab": {},
    "colab_type": "code",
    "id": "RCC-N2h77l_x"
   },
   "outputs": [],
   "source": [
    "images = data.iloc[:, 1:]\n",
    "labels = data.iloc[:, 0]"
   ]
  },
  {
   "cell_type": "code",
   "execution_count": 51,
   "metadata": {
    "colab": {
     "base_uri": "https://localhost:8080/",
     "height": 68
    },
    "colab_type": "code",
    "id": "uxdWMqHN7l_1",
    "outputId": "0250626f-6670-4bea-f72f-d52d44db9f07"
   },
   "outputs": [
    {
     "name": "stdout",
     "output_type": "stream",
     "text": [
      "['0' '1' '2' '3' '4' '5' '6' '7' '8' '9' 'A' 'B' 'C' 'D' 'E' 'F' 'G' 'H'\n",
      " 'I' 'J' 'K' 'L' 'M' 'N' 'O' 'P' 'Q' 'R' 'S' 'T' 'U' 'V' 'W' 'X' 'Y' 'Z']\n",
      "[0 1 2 ... 2 6 6]\n"
     ]
    }
   ],
   "source": [
    "from sklearn import preprocessing\n",
    "le = preprocessing.LabelEncoder()\n",
    "le.fit(labels)\n",
    "print(le.classes_)\n",
    "labels = le.transform(labels)\n",
    "print(labels)"
   ]
  },
  {
   "cell_type": "code",
   "execution_count": 0,
   "metadata": {
    "colab": {},
    "colab_type": "code",
    "id": "ZarOaS5H7l_5"
   },
   "outputs": [],
   "source": [
    "length = len(labels)\n",
    "images = np.asarray(images, dtype=np.float32)\n",
    "labels = np.asarray(labels, dtype=np.int64)\n",
    "\n",
    "x_train, x_test, y_train, y_test = train_test_split(images, labels, test_size = 0.2)\n",
    "x_train, x_val, y_train, y_val = train_test_split(x_train, y_train, test_size = 0.2)"
   ]
  },
  {
   "cell_type": "code",
   "execution_count": 53,
   "metadata": {
    "colab": {
     "base_uri": "https://localhost:8080/",
     "height": 34
    },
    "colab_type": "code",
    "id": "66deTuQF9Iyl",
    "outputId": "36e81752-8f88-42c1-856c-3ce8ea8e6c1c"
   },
   "outputs": [
    {
     "data": {
      "text/plain": [
       "(2976, 784)"
      ]
     },
     "execution_count": 53,
     "metadata": {
      "tags": []
     },
     "output_type": "execute_result"
    }
   ],
   "source": [
    "x_val.shape"
   ]
  },
  {
   "cell_type": "code",
   "execution_count": 0,
   "metadata": {
    "colab": {},
    "colab_type": "code",
    "id": "IC0k_vxS7l__"
   },
   "outputs": [],
   "source": [
    "def random_batch(x_train, y_train, batch_size):\n",
    "    rnd_indices = np.random.randint(0, len(x_train), batch_size)\n",
    "    x_batch = x_train[rnd_indices]\n",
    "    y_batch = y_train[rnd_indices]\n",
    "    return x_batch, y_batch"
   ]
  },
  {
   "cell_type": "code",
   "execution_count": 0,
   "metadata": {
    "colab": {},
    "colab_type": "code",
    "id": "XjHFYqXx7mAE"
   },
   "outputs": [],
   "source": [
    "# Training Parameters\n",
    "batch_size = 128\n",
    "dropout_rate = 0.1\n",
    "\n",
    "# Network Parameters\n",
    "height, width = 28, 28\n",
    "num_classes = 36"
   ]
  },
  {
   "cell_type": "code",
   "execution_count": 0,
   "metadata": {
    "colab": {},
    "colab_type": "code",
    "id": "EV-3w_NB7mAI"
   },
   "outputs": [],
   "source": [
    "class CNN_Model(tfe.Network):\n",
    "  def __init__(self):\n",
    "    super(CNN_Model, self).__init__()\n",
    "    self.conv1 = self.track_layer(tf.layers.Conv2D(32, 5, activation = tf.nn.relu, padding = \"SAME\"))\n",
    "    self.pool1 = self.track_layer(tf.layers.MaxPooling2D(2, 2))\n",
    "    self.conv2 = self.track_layer(tf.layers.Conv2D(64, 5, activation = tf.nn.relu, padding = \"SAME\"))\n",
    "    self.pool2 = self.track_layer(tf.layers.MaxPooling2D(2, 2))\n",
    "    self.flatten = self.track_layer(tf.layers.Flatten())\n",
    "    self.fc1 = self.track_layer(tf.layers.Dense(256, activation = tf.nn.relu))\n",
    "    self.dropout = self.track_layer(tf.layers.Dropout(0.75))\n",
    "    self.fc2 = self.track_layer(tf.layers.Dense(num_classes, activation = None))\n",
    "    \n",
    "  def call(self, input):\n",
    "    input = tf.reshape(input, [-1, 28, 28, 1])\n",
    "    result = self.conv1(input)\n",
    "    result = self.pool1(result)\n",
    "    result = self.conv2(result)\n",
    "    result = self.flatten(result)\n",
    "    result = self.fc1(result)\n",
    "    result = self.dropout(result)\n",
    "    result = self.fc2(result)\n",
    "    return result"
   ]
  },
  {
   "cell_type": "code",
   "execution_count": 0,
   "metadata": {
    "colab": {},
    "colab_type": "code",
    "id": "5Fn2n0YM7mAN"
   },
   "outputs": [],
   "source": [
    "def get_accuracy(logits, y_true, test=False):\n",
    "  global acc_list\n",
    "  y_pred = tf.argmax(tf.nn.softmax(logits), axis = 1)\n",
    "  correct = tf.equal(y_pred, y_true)\n",
    "  accuracy = tf.reduce_mean(tf.cast(correct, tf.float32))\n",
    "#   print(process.memory_info().rss/(10**9))\n",
    "  if not test:\n",
    "    acc_list = np.append(acc_list, [[step, accuracy]], axis=0)\n",
    "    print(\"step {}:\\taccuracy = {}\".format(step, accuracy))\n",
    "  else:\n",
    "    print(\"Test accuracy = {}\".format(accuracy))  \n",
    "  \n",
    "def loss_function(step, model, x, y_true):\n",
    "  logits = model(x)\n",
    "  xentropy = tf.nn.sparse_softmax_cross_entropy_with_logits(logits=logits, labels=y_true)\n",
    "  loss = tf.reduce_mean(xentropy)\n",
    "  \n",
    "  if step % verbose_interval == 0:\n",
    "    get_accuracy(logits, y_true)\n",
    "  \n",
    "  return loss"
   ]
  },
  {
   "cell_type": "code",
   "execution_count": 58,
   "metadata": {
    "colab": {
     "base_uri": "https://localhost:8080/",
     "height": 479
    },
    "colab_type": "code",
    "id": "da5Dmw1wTNmz",
    "outputId": "6de621ed-bcd4-41b2-a16a-77a5bb4637cc"
   },
   "outputs": [
    {
     "name": "stdout",
     "output_type": "stream",
     "text": [
      "WARNING:tensorflow:** tfe.Network is deprecated and will be removed in a future version.\n",
      "\n",
      "Please inherit from `tf.keras.Model`, and see its documentation for details. `tf.keras.Model` should be a drop-in replacement for `tfe.Network` in most cases, but note that `track_layer` is no longer necessary or supported. Instead, `Layer` instances are tracked on attribute assignment (see the section of `tf.keras.Model`'s documentation on subclassing). Since the output of `track_layer` is often assigned to an attribute anyway, most code can be ported by simply removing the `track_layer` calls.\n",
      "\n",
      "`tf.keras.Model` works with all TensorFlow `Layer` instances, including those from `tf.layers`, but switching to the `tf.keras.layers` versions along with the migration to `tf.keras.Model` is recommended, since it will preserve variable names. Feel free to import it with an alias to avoid excess typing :).\n",
      "step 10:\taccuracy = 0.6015625\n",
      "step 20:\taccuracy = 0.8671875\n",
      "step 30:\taccuracy = 0.9140625\n",
      "step 40:\taccuracy = 0.9296875\n",
      "step 50:\taccuracy = 0.9375\n",
      "step 60:\taccuracy = 0.953125\n",
      "step 70:\taccuracy = 0.9765625\n",
      "step 80:\taccuracy = 0.9765625\n",
      "step 90:\taccuracy = 0.953125\n",
      "step 100:\taccuracy = 0.9765625\n",
      "step 110:\taccuracy = 0.9921875\n",
      "step 120:\taccuracy = 0.9609375\n",
      "step 130:\taccuracy = 0.984375\n",
      "step 140:\taccuracy = 0.9921875\n",
      "step 150:\taccuracy = 0.9765625\n",
      "step 160:\taccuracy = 0.984375\n",
      "step 170:\taccuracy = 0.984375\n",
      "step 180:\taccuracy = 1.0\n",
      "step 190:\taccuracy = 0.9921875\n",
      "step 200:\taccuracy = 0.96875\n",
      "Optimization Finished!\n"
     ]
    }
   ],
   "source": [
    "# Train model\n",
    "start = 1\n",
    "num_steps = 200\n",
    "verbose_interval = 10\n",
    "learning_rate = 0.001\n",
    "\n",
    "acc_list = np.array([[0, 0]])\n",
    "model = CNN_Model()\n",
    "optimizer = tf.train.AdamOptimizer(learning_rate)\n",
    "\n",
    "for step in range(start, num_steps + start):\n",
    "  batch_x, batch_y = random_batch(x_train, y_train, batch_size)\n",
    "  batch_x = tf.constant(batch_x)\n",
    "  batch_y = tf.constant(batch_y)\n",
    "#   print(batch_y)\n",
    "  optimizer.minimize(lambda: loss_function(step, model, batch_x, batch_y))\n",
    "\n",
    "print(\"Optimization Finished!\")\n",
    "start = start + num_steps"
   ]
  },
  {
   "cell_type": "code",
   "execution_count": 59,
   "metadata": {
    "colab": {
     "base_uri": "https://localhost:8080/",
     "height": 102
    },
    "colab_type": "code",
    "id": "fs3QKOamkD7G",
    "outputId": "416b9bc0-eacc-4a26-b553-912d53aaff5f"
   },
   "outputs": [
    {
     "name": "stdout",
     "output_type": "stream",
     "text": [
      "step 210:\taccuracy = 0.9860000014305115\n",
      "step 220:\taccuracy = 0.9860000014305115\n",
      "step 230:\taccuracy = 0.9980000257492065\n",
      "step 240:\taccuracy = 0.9980000257492065\n",
      "step 250:\taccuracy = 0.9959999918937683\n"
     ]
    }
   ],
   "source": [
    "# Additional run to optimize \n",
    "learning_rate = 0.0001\n",
    "steps = 50\n",
    "verbose_interval = 10\n",
    "batch_size = 500\n",
    "optimizer = tf.train.AdamOptimizer(learning_rate)\n",
    "\n",
    "for step in range(start, start + steps +1):\n",
    "  batch_x, batch_y = random_batch(x_train, y_train, batch_size)\n",
    "  batch_x = tf.constant(batch_x)\n",
    "  batch_y = tf.constant(batch_y)\n",
    "  optimizer.minimize(lambda: loss_function(step, model, batch_x, batch_y))\n",
    "\n",
    "start = start + num_steps"
   ]
  },
  {
   "cell_type": "code",
   "execution_count": 60,
   "metadata": {
    "colab": {
     "base_uri": "https://localhost:8080/",
     "height": 269
    },
    "colab_type": "code",
    "id": "LOvJBHixb2TM",
    "outputId": "16e8270c-3dc8-41d4-b5f9-4c6d7f72789e"
   },
   "outputs": [
    {
     "data": {
      "image/png": "[encoded data removed]",
      "text/plain": [
       "<Figure size 432x288 with 1 Axes>"
      ]
     },
     "metadata": {
      "tags": []
     },
     "output_type": "display_data"
    }
   ],
   "source": [
    "plt.plot(acc_list[:, 0], acc_list[:, 1])\n",
    "plt.show()"
   ]
  },
  {
   "cell_type": "code",
   "execution_count": 0,
   "metadata": {
    "colab": {
     "base_uri": "https://localhost:8080/",
     "height": 34
    },
    "colab_type": "code",
    "id": "tjo3g7Y2fF5C",
    "outputId": "a7ee888e-8c32-4582-8666-72b2caf7b91a"
   },
   "outputs": [
    {
     "name": "stdout",
     "output_type": "stream",
     "text": [
      "Test accuracy = 0.9848999977111816\n"
     ]
    }
   ],
   "source": [
    "x_test_batch, y_test_batch = random_batch(x_test, y_test, 10000)\n",
    "logits = model(x_test_batch)\n",
    "get_accuracy(logits, y_test_batch, test=True)"
   ]
  },
  {
   "cell_type": "code",
   "execution_count": 61,
   "metadata": {
    "colab": {
     "base_uri": "https://localhost:8080/",
     "height": 34
    },
    "colab_type": "code",
    "id": "ROhG2mcOL4ZT",
    "outputId": "99f6b1b8-56e6-4dd0-c6d0-ceee5b3ef4d7"
   },
   "outputs": [
    {
     "data": {
      "text/plain": [
       "'./AZ_09.ckpt'"
      ]
     },
     "execution_count": 61,
     "metadata": {
      "tags": []
     },
     "output_type": "execute_result"
    }
   ],
   "source": [
    "# Remember track_layer in model\n",
    "# Check variable: \n",
    "model.variables\n",
    "tfe.save_network_checkpoint(model,'./AZ_09.ckpt')"
   ]
  },
  {
   "cell_type": "code",
   "execution_count": 62,
   "metadata": {
    "colab": {
     "base_uri": "https://localhost:8080/",
     "height": 139
    },
    "colab_type": "code",
    "id": "Pa_OVcmS7mAj",
    "outputId": "396fff38-90e2-47a3-f2b4-798539c67eb5"
   },
   "outputs": [
    {
     "name": "stdout",
     "output_type": "stream",
     "text": [
      "WARNING:tensorflow:** tfe.Network is deprecated and will be removed in a future version.\n",
      "\n",
      "Please inherit from `tf.keras.Model`, and see its documentation for details. `tf.keras.Model` should be a drop-in replacement for `tfe.Network` in most cases, but note that `track_layer` is no longer necessary or supported. Instead, `Layer` instances are tracked on attribute assignment (see the section of `tf.keras.Model`'s documentation on subclassing). Since the output of `track_layer` is often assigned to an attribute anyway, most code can be ported by simply removing the `track_layer` calls.\n",
      "\n",
      "`tf.keras.Model` works with all TensorFlow `Layer` instances, including those from `tf.layers`, but switching to the `tf.keras.layers` versions along with the migration to `tf.keras.Model` is recommended, since it will preserve variable names. Feel free to import it with an alias to avoid excess typing :).\n",
      "INFO:tensorflow:Restoring parameters from ./AZ_09.ckpt\n"
     ]
    }
   ],
   "source": [
    "# Run at least 1 round before reconstructing. \n",
    "input = tf.random_normal((1, 784))\n",
    "model = CNN_Model()\n",
    "model(input) # intitiate variable\n",
    "tfe.restore_network_checkpoint(model,'./AZ_09.ckpt')"
   ]
  },
  {
   "cell_type": "code",
   "execution_count": 0,
   "metadata": {
    "colab": {},
    "colab_type": "code",
    "id": "qW7HlLPLdWlL"
   },
   "outputs": [],
   "source": [
    "test_labels = tf.argmax(tf.nn.softmax(logits), axis = 1)\n",
    "test_labels = le.inverse_transform(test_labels)"
   ]
  },
  {
   "cell_type": "code",
   "execution_count": 0,
   "metadata": {
    "colab": {},
    "colab_type": "code",
    "id": "8AkmLBPaiMuK"
   },
   "outputs": [],
   "source": [
    "a = 1\n",
    "b = 11\n",
    "\n",
    "test_imgs = x_test_batch[a:b]\n",
    "\n",
    "logits = model(test_imgs)"
   ]
  },
  {
   "cell_type": "code",
   "execution_count": 76,
   "metadata": {
    "colab": {
     "base_uri": "https://localhost:8080/",
     "height": 34
    },
    "colab_type": "code",
    "id": "-0niG-UpiGb1",
    "outputId": "3a39b5a1-0840-4a03-a037-c4436a356030"
   },
   "outputs": [
    {
     "name": "stdout",
     "output_type": "stream",
     "text": [
      "['T' 'V' 'J' 'D' 'S' '2' 'U' '7' 'R' 'U']\n"
     ]
    }
   ],
   "source": [
    "print(test_labels)"
   ]
  },
  {
   "cell_type": "code",
   "execution_count": 77,
   "metadata": {
    "colab": {
     "base_uri": "https://localhost:8080/",
     "height": 1000
    },
    "colab_type": "code",
    "id": "wXPVx5duoR88",
    "outputId": "660b0d29-0415-4b78-e423-d8508388d11c"
   },
   "outputs": [
    {
     "data": {
      "image/png": "[encoded data removed]",
      "text/plain": [
       "<Figure size 432x288 with 1 Axes>"
      ]
     },
     "metadata": {
      "tags": []
     },
     "output_type": "display_data"
    },
    {
     "data": {
      "image/png": "[encoded data removed]",
      "text/plain": [
       "<Figure size 432x288 with 1 Axes>"
      ]
     },
     "metadata": {
      "tags": []
     },
     "output_type": "display_data"
    },
    {
     "data": {
      "image/png": "[encoded data removed]",
      "text/plain": [
       "<Figure size 432x288 with 1 Axes>"
      ]
     },
     "metadata": {
      "tags": []
     },
     "output_type": "display_data"
    },
    {
     "data": {
      "image/png": "[encoded data removed]",
      "text/plain": [
       "<Figure size 432x288 with 1 Axes>"
      ]
     },
     "metadata": {
      "tags": []
     },
     "output_type": "display_data"
    },
    {
     "data": {
      "image/png": "[encoded data removed]",
      "text/plain": [
       "<Figure size 432x288 with 1 Axes>"
      ]
     },
     "metadata": {
      "tags": []
     },
     "output_type": "display_data"
    },
    {
     "data": {
      "image/png": "[encoded data removed]",
      "text/plain": [
       "<Figure size 432x288 with 1 Axes>"
      ]
     },
     "metadata": {
      "tags": []
     },
     "output_type": "display_data"
    },
    {
     "data": {
      "image/png": "[encoded data removed]",
      "text/plain": [
       "<Figure size 432x288 with 1 Axes>"
      ]
     },
     "metadata": {
      "tags": []
     },
     "output_type": "display_data"
    },
    {
     "data": {
      "image/png": "[encoded data removed]",
      "text/plain": [
       "<Figure size 432x288 with 1 Axes>"
      ]
     },
     "metadata": {
      "tags": []
     },
     "output_type": "display_data"
    },
    {
     "data": {
      "image/png": "[encoded data removed]",
      "text/plain": [
       "<Figure size 432x288 with 1 Axes>"
      ]
     },
     "metadata": {
      "tags": []
     },
     "output_type": "display_data"
    },
    {
     "data": {
      "image/png": "[encoded data removed]",
      "text/plain": [
       "<Figure size 432x288 with 1 Axes>"
      ]
     },
     "metadata": {
      "tags": []
     },
     "output_type": "display_data"
    }
   ],
   "source": [
    "\n",
    "\n",
    "for i in range(a, b):\n",
    "  plt.imshow(x_test_batch[i].reshape(28, 28))\n",
    "  plt.show()"
   ]
  },
  {
   "cell_type": "code",
   "execution_count": 0,
   "metadata": {
    "colab": {},
    "colab_type": "code",
    "id": "4a02oyjHofrw"
   },
   "outputs": [],
   "source": []
  }
 ],
 "metadata": {
  "accelerator": "GPU",
  "colab": {
   "name": "Train_CNN_Model.ipynb",
   "provenance": []
  },
  "kernelspec": {
   "display_name": "Python 3",
   "language": "python",
   "name": "python3"
  },
  "language_info": {
   "codemirror_mode": {
    "name": "ipython",
    "version": 3
   },
   "file_extension": ".py",
   "mimetype": "text/x-python",
   "name": "python",
   "nbconvert_exporter": "python",
   "pygments_lexer": "ipython3",
   "version": "3.6.8"
  }
 },
 "nbformat": 4,
 "nbformat_minor": 1
}
